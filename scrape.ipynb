{
 "cells": [
  {
   "cell_type": "code",
   "execution_count": 2,
   "metadata": {},
   "outputs": [],
   "source": [
    "from bs4 import BeautifulSoup\n",
    "import requests\n",
    "import asyncio\n",
    "import aiohttp\n",
    "import json"
   ]
  },
  {
   "cell_type": "code",
   "execution_count": 117,
   "metadata": {},
   "outputs": [
    {
     "name": "stdout",
     "output_type": "stream",
     "text": [
      "<Response [403]>\n",
      "[<div class=\"explore-item-title same-height\">\n",
      "<a href=\"https://gharsansarnepal.com/house-in-kathmandu/722\">Imadol,Gwarkhu House On Sale</a>\n",
      "</div>, <div class=\"explore-item-title same-height\">\n",
      "<a href=\"https://gharsansarnepal.com/Land-in-nepal/721\">Kathmandu,Balaju Land On Sale</a>\n",
      "</div>, <div class=\"explore-item-title same-height\">\n",
      "<a href=\"https://gharsansarnepal.com/house-in-kathmandu/720\">Sitapaila,Sita Homes House On Sale</a>\n",
      "</div>, <div class=\"explore-item-title same-height\">\n",
      "<a href=\"https://gharsansarnepal.com/Land-in-nepal/719\">Mahankal House On Sale</a>\n",
      "</div>, <div class=\"explore-item-title same-height\">\n",
      "<a href=\"https://gharsansarnepal.com/house-in-kathmandu/718\">Baniyatar House On Sale</a>\n",
      "</div>, <div class=\"explore-item-title same-height\">\n",
      "<a href=\"https://gharsansarnepal.com/Land-in-nepal/717\">Rai Chowk Land On Sale</a>\n",
      "</div>, <div class=\"explore-item-title same-height\">\n",
      "<a href=\"https://gharsansarnepal.com/house-in-kathmandu/716\">Towkhel House On Sale</a>\n",
      "</div>, <div class=\"explore-item-title same-height\">\n",
      "<a href=\"https://gharsansarnepal.com/house-in-kathmandu/715\">Kimdol House On Sale</a>\n",
      "</div>, <div class=\"explore-item-title same-height\">\n",
      "<a href=\"https://gharsansarnepal.com/Land-in-nepal/714\">Syuchatar Land On Sale</a>\n",
      "</div>]\n"
     ]
    }
   ],
   "source": [
    "response = requests.get(\"https://gharsansarnepal.com/buy-properties-in-nepal?page=5\")\n",
    "print(response)\n",
    "body = BeautifulSoup(response.content, 'html.parser')\n",
    "print(body.find_all('div', {'class': 'explore-item-title'}))"
   ]
  },
  {
   "cell_type": "code",
   "execution_count": 119,
   "metadata": {},
   "outputs": [],
   "source": [
    "last_page = 42\n",
    "buy_links = []\n",
    "for page_num in range(1, last_page+1):\n",
    "    headers = {\n",
    "    'User-Agent': 'Mozilla/5.0 (Macintosh; Intel Mac OS X 10_14_4) AppleWebKit/537.36 (KHTML, like Gecko) Chrome/75.0.3770.100 Safari/537.36'\n",
    "    }\n",
    "    res = BeautifulSoup(requests.get(\"https://gharsansarnepal.com/buy-properties-in-nepal?page={}\".format(page_num), headers=headers).content, 'html.parser')\n",
    "    link = [x.find('a')['href'] for x in res.find_all('div', {'class': 'explore-item-title'})]\n",
    "    buy_links.extend(link)\n",
    "\n",
    "rent_links = []\n",
    "last_page = 4\n",
    "for page_num in range(1, last_page+1):\n",
    "    headers = {\n",
    "    'User-Agent': 'Mozilla/5.0 (Macintosh; Intel Mac OS X 10_14_4) AppleWebKit/537.36 (KHTML, like Gecko) Chrome/75.0.3770.100 Safari/537.36'\n",
    "    }\n",
    "    res = BeautifulSoup(requests.get(\"https://gharsansarnepal.com/gharsansar/nepal/rent?page={}\".format(page_num)).content, 'html.parser')\n",
    "    rent_links.extend([x.find('a')['href'] for x in res.find_all('div', {'class': 'explore-item-title'})])"
   ]
  },
  {
   "cell_type": "code",
   "execution_count": 120,
   "metadata": {},
   "outputs": [],
   "source": [
    "links  = {'buy_links': list(set(buy_links)), 'rent_links': list(set(rent_links))}\n",
    "with open('links.json', 'w') as f:\n",
    "    json.dump(links, f, indent=4)"
   ]
  },
  {
   "cell_type": "code",
   "execution_count": 12,
   "metadata": {},
   "outputs": [],
   "source": [
    "# get data from each page\n",
    "with open('links.json', 'r') as f:\n",
    "    links = json.load(f)\n",
    "buy_links = links['buy_links']\n",
    "rent_links = links['rent_links']"
   ]
  },
  {
   "cell_type": "code",
   "execution_count": 124,
   "metadata": {},
   "outputs": [],
   "source": [
    "res = requests.get('https://gharsansarnepal.com/Land-in-nepal/462', headers=headers)"
   ]
  },
  {
   "cell_type": "code",
   "execution_count": 89,
   "metadata": {},
   "outputs": [],
   "source": [
    "# get the section\n",
    "with open('output.html', 'r') as f:\n",
    "    soup = BeautifulSoup(str(f.read()), 'html.parser')"
   ]
  },
  {
   "cell_type": "code",
   "execution_count": 95,
   "metadata": {},
   "outputs": [],
   "source": [
    "def get_data(soup):  \n",
    "    price = soup.find('div', {\"class\": \"banner-sub-title\"}).find(\"h4\").text\n",
    "    location = soup.find('div', {'class': 'overview-sub-title'}).find('h5').text\n",
    "    overview_details = soup.find('div', {'class': 'overview-details'})\n",
    "    features = [x.text for x in overview_details.find('input', {'value': 'FEATURES'}).parent.find_next('ul').find_all('li')]\n",
    "    property_description = [{x.find('input')['value'] : x.text} if x.find('input') != None else {'Other' : x.text}   for x in overview_details.find('input', {'value': 'Property details'}).parent.find_all_next('p')]\n",
    "    amenities = [x.text for x in soup.find('div', {'class': 'amenities'}).find_all('p')]\n",
    "    map_location = soup.find('div', {'class': 'map-field'}).find('iframe')['src']\n",
    "    property_details = [x.text.replace('\\n', '').split(\":\")[0].strip() + \": \" + x.text.replace('\\n', '').split(\":\")[1].strip() for x in soup.find(\"span\", string=\"Property details\").findNext(\"div\").find(\"ul\").find_all(\"li\")]\n",
    "\n",
    "    data = {\n",
    "        'price': price,\n",
    "        'location': location,\n",
    "        'features': features,\n",
    "        'property_description': property_description,\n",
    "        'amenities': amenities,\n",
    "        'map_location': map_location,\n",
    "        'property_details': property_details\n",
    "    }\n",
    "\n",
    "    return data"
   ]
  },
  {
   "cell_type": "code",
   "execution_count": 96,
   "metadata": {},
   "outputs": [
    {
     "data": {
      "text/plain": [
       "{'price': 'Rs Npr 60000000/-',\n",
       " 'location': ' location: Kathmandu, Baniyatar',\n",
       " 'features': ['Parqueting floor and Modular kitchen with beautiful Dining space.',\n",
       "  'Facing towards East/South direction.',\n",
       "  '2Km from Samakhusi chowk.',\n",
       "  'Inside house is full-furnished condition',\n",
       "  'Parking space',\n",
       "  'bunalow system',\n",
       "  'Drainage and 24 hours per day water supply',\n",
       "  'water solar,water filter and reserve tank is also available'],\n",
       " 'property_description': [{'Ground Floor': '\\xa0Open living space connected, Kitchen with Modular setup and Kitchen has extra store room plus beautiful Dining space, one Common Bedroom with outdoor space ,one Temple space and Common Bathroom.'},\n",
       "  {'First Floor': '\\xa0One Beautiful Master Bedroom with Balcony space and one simialr Master Bedroom,one Common Bedroom,one Common Bathroom.'},\n",
       "  {'Second Floor': '\\xa0One Master Bedroom one common bedroom one common bathroom space and\\xa0family space and also patio space is provided in second floor.'},\n",
       "  {'Top Floor': '\\xa0Solar,water filter,two tank-(500) and 12000 litre reserve water storage'},\n",
       "  {'Other': 'Do not hesitate to visit the property now. cause the price is fair according to the market and property is so beautiful and attractive.'},\n",
       "  {'Other': '\\xa0'},\n",
       "  {'Other': ' Solar'},\n",
       "  {'Other': ' Water Filter'},\n",
       "  {'Other': ' Water Well'}],\n",
       " 'amenities': [' Solar', ' Water Filter', ' Water Well'],\n",
       " 'map_location': 'https://www.google.com/maps/embed?pb=!1m18!1m12!1m3!1d1391.8860547290215!2d85.31187371262621!3d27.737409106278044!2m3!1f0!2f0!3f0!3m2!1i1024!2i768!4f13.1!3m3!1m2!1s0x39eb18d861fc0765%3A0xc4702dc6e3d1f4a!2sThe%20Namss%20Hostel!5e1!3m2!1sen!2snp!4v1679401141120!5m2!1sen!2snp',\n",
       " 'property_details': ['Posted on: 1 week ago',\n",
       "  'Pillar Size: 12*12 Inchs',\n",
       "  'Tank Capacity: 12000 liters',\n",
       "  'Road Size: 12 Feet',\n",
       "  'Road Type: Black Topped',\n",
       "  'Built on: 2073 B.S',\n",
       "  'land area: 6 Anna',\n",
       "  'house area: 3210',\n",
       "  'beds: 6',\n",
       "  'living: 3',\n",
       "  'kitchen: 1',\n",
       "  'bathrooms: 3',\n",
       "  'Property Face Direction: South-East',\n",
       "  'Parking Space: 2 Cars & 2 Bikes']}"
      ]
     },
     "execution_count": 96,
     "metadata": {},
     "output_type": "execute_result"
    }
   ],
   "source": [
    "get_data(soup)"
   ]
  },
  {
   "cell_type": "code",
   "execution_count": 86,
   "metadata": {},
   "outputs": [],
   "source": []
  }
 ],
 "metadata": {
  "kernelspec": {
   "display_name": "Python 3",
   "language": "python",
   "name": "python3"
  },
  "language_info": {
   "codemirror_mode": {
    "name": "ipython",
    "version": 3
   },
   "file_extension": ".py",
   "mimetype": "text/x-python",
   "name": "python",
   "nbconvert_exporter": "python",
   "pygments_lexer": "ipython3",
   "version": "3.10.5"
  },
  "orig_nbformat": 4
 },
 "nbformat": 4,
 "nbformat_minor": 2
}
