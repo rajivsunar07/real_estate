{
 "cells": [
  {
   "cell_type": "code",
   "execution_count": 28,
   "metadata": {},
   "outputs": [],
   "source": [
    "import json\n",
    "import pandas as pd\n",
    "import numpy as np\n",
    "import re"
   ]
  },
  {
   "cell_type": "code",
   "execution_count": 13,
   "metadata": {},
   "outputs": [],
   "source": [
    "with open('buy_property_data.json', 'r') as f:\n",
    "    buy_data = json.load(f)\n",
    "raw_data = []\n",
    "for k, v in buy_data.items():\n",
    "    data = {'id': k}\n",
    "    for key, value in v.items():\n",
    "        data[key] = value\n",
    "    raw_data.append(data)"
   ]
  },
  {
   "cell_type": "code",
   "execution_count": 243,
   "metadata": {},
   "outputs": [],
   "source": [
    "df = pd.json_normalize(raw_data)"
   ]
  },
  {
   "cell_type": "code",
   "execution_count": 233,
   "metadata": {},
   "outputs": [],
   "source": [
    "# cleaning price\n",
    "\n",
    "def clean_price(x: str):\n",
    "    cleaned_string = x.lower()\n",
    "    cleaned_string = re.split(r\"rs.|npr\", re.split(r\"/(rs(\\.*)).*/g\", cleaned_string)[-1])[-1]\n",
    "    if cleaned_string.endswith('/-'):\n",
    "        cleaned_string = cleaned_string[:-3]\n",
    "    text_to_num = {'crores': '10000000', 'lakhs' : '100000', 'crore': '10000000', 'lakh' : '100000' }\n",
    "    text = [x for x in text_to_num.keys() if cleaned_string.find(x) != -1]\n",
    "    if len(text) != 0:\n",
    "        cleaned_string = cleaned_string.split(text[0])[0] + \" * \"+ text_to_num[text[0]] +  cleaned_string.split(text[0])[1]\n",
    "    return cleaned_string\n",
    "\n",
    "def clean_str_to_int(raw: str):\n",
    "    cleaned = \"\".join(re.findall(\"([0-9])\", raw))\n",
    "    if len(cleaned.strip()) == 0:\n",
    "        return \"0\"\n",
    "    return cleaned\n",
    "\n",
    "def text_num_mul(raw: str):\n",
    "    splt = raw.split(\"*\")[0].strip()\n",
    "    multiple = raw.split(\"*\")[1].strip()\n",
    "    if '-' in splt:\n",
    "        splt = splt.split('-')[0]\n",
    "    \n",
    "    splt = clean_str_to_int(splt)\n",
    "    multiple = clean_str_to_int(multiple)\n",
    "    raw = float(splt) * float(multiple)\n",
    "    return raw\n",
    "  \n",
    "def multiply_price(price: str, per_size: str):\n",
    "    match = re.findall(r'aana| anna', price)\n",
    "    per_size = str(per_size).lower()\n",
    "    if len(match) > 0:\n",
    "        sep = \"\".join(re.findall(r'/-|/|per', price))\n",
    "        price = price.split(sep)[0]\n",
    "        if 'anna' in per_size or 'aana' in per_size:\n",
    "            ps_sep = re.findall(r'aana| anna|anna', per_size)[0]\n",
    "            if '*' in price:\n",
    "                price = text_num_mul(price)\n",
    "                \n",
    "            price =  clean_str_to_int(str(price))\n",
    "            sep = re.findall(r'anna|aana', per_size)[0] \n",
    "            check = re.findall(r'-|.[0-9].', per_size.split(sep)[0])\n",
    "            if len(check) > 0:\n",
    "                if check.__contains__('-'):\n",
    "                    per_size = per_size.split('-')[0]\n",
    "                else:\n",
    "                    per_size = per_size.split('.')[0]  \n",
    "            price = float(price) *  float(per_size.split(ps_sep)[0])\n",
    "           \n",
    "        elif '*' in price:\n",
    "            price = text_num_mul(price)\n",
    "    else:\n",
    "        price = float(clean_str_to_int(str(price)))\n",
    "\n",
    "    return price\n",
    "\n",
    "df['price'] = df['price'].apply(clean_price)\n",
    "df['price'] = df.apply(lambda x: multiply_price(x['price'], x['property_details.land area']), axis=1).astype(np.float64)"
   ]
  },
  {
   "cell_type": "code",
   "execution_count": 260,
   "metadata": {},
   "outputs": [
    {
     "name": "stdout",
     "output_type": "stream",
     "text": [
      "{'Karhmandu', 'Biratnagar Bajar', 'Sukedhara', 'Ramkot', 'Kalanki', 'Kathmndu', 'Narayanthan', 'Imadol', 'Rumba Chowk', 'Saranpur', 'Lalitpur', 'Satungal', 'Kathmadnu', 'Swayambhu', 'Bhaktapur', 'Nobel Hospital Road', 'Kathmandhu', 'Biratnagar', 'Kathmandu', 'Itahari', 'Budhanilkantha', 'Naicap'}\n"
     ]
    }
   ],
   "source": [
    "# cleaning location\n",
    "uniqueness = set()\n",
    "def clean_location(location: str) -> str:\n",
    "    if 'Location' in location:\n",
    "        location = location.split('Location:')[-1]\n",
    "    sep = re.findall(',|/', location)\n",
    "    if len(sep) > 0:\n",
    "        locations = location.split(sep[0])\n",
    "        uniqueness.add(locations[0].strip())\n",
    "    \n",
    "df['location'] = df['location'].str.title()\n",
    "df['location'].apply(clean_location)\n",
    "print(uniqueness)"
   ]
  },
  {
   "cell_type": "code",
   "execution_count": 234,
   "metadata": {},
   "outputs": [
    {
     "name": "stdout",
     "output_type": "stream",
     "text": [
      "         price property_details.land area\n",
      "0   10000000.0                     4 Anna\n",
      "1   70000000.0                   1 Ropani\n",
      "2  200000000.0                     5 Anna\n",
      "3    5000000.0                    0.7.2.0\n",
      "4    3600000.0                   3.2 Anna\n"
     ]
    }
   ],
   "source": [
    "print(df[['price','property_details.land area']].head())"
   ]
  },
  {
   "cell_type": "code",
   "execution_count": 76,
   "metadata": {},
   "outputs": [
    {
     "data": {
      "text/plain": [
       "0              NaN\n",
       "1              NaN\n",
       "2              NaN\n",
       "3              NaN\n",
       "4       3050 Sq.Ft\n",
       "          ...     \n",
       "367            NaN\n",
       "368            NaN\n",
       "369     2800 Sq.ft\n",
       "370    3528 sq.ft.\n",
       "371            NaN\n",
       "Name: property_details.house area, Length: 372, dtype: object"
      ]
     },
     "execution_count": 76,
     "metadata": {},
     "output_type": "execute_result"
    }
   ],
   "source": [
    "df['property_details.house area']"
   ]
  },
  {
   "cell_type": "code",
   "execution_count": 104,
   "metadata": {},
   "outputs": [
    {
     "name": "stdout",
     "output_type": "stream",
     "text": [
      "['aana']\n"
     ]
    }
   ],
   "source": [
    "dummy =  'Rs Rs 2500000/-per aana'\n",
    "print(re.findall(r'aana| anna', dummy))"
   ]
  }
 ],
 "metadata": {
  "kernelspec": {
   "display_name": "Python 3",
   "language": "python",
   "name": "python3"
  },
  "language_info": {
   "codemirror_mode": {
    "name": "ipython",
    "version": 3
   },
   "file_extension": ".py",
   "mimetype": "text/x-python",
   "name": "python",
   "nbconvert_exporter": "python",
   "pygments_lexer": "ipython3",
   "version": "3.10.5"
  },
  "orig_nbformat": 4
 },
 "nbformat": 4,
 "nbformat_minor": 2
}
